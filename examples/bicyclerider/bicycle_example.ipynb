{
 "cells": [
  {
   "cell_type": "markdown",
   "id": "ab211fc3",
   "metadata": {},
   "source": [
    "# Introduction"
   ]
  },
  {
   "cell_type": "markdown",
   "id": "7762eb77",
   "metadata": {},
   "source": [
    "The Yeadon software was developed as a component in our tool chain for performing simulations of bicycle dynamics that include the effects of a human rider. We choose to model the bicycle rider such that they were rigidly attached to the rear frame of the bicycle thus we required estimates of the inertial properties of a human in a seated position. Yeadon's popular human inertia model is a great candidate for this purpose. This notebook describes the process of solving for the joint angles needed to configure a general Yeadon human model to sit on a typical bicycle with hands on the handlebars, arms hanging down, feet at the crank axle, and butt on the seat. Then, we express the inertial properties of the rider in this configuration in terms that allow them to be combined with the inertial properties of the rear frame of the bicycle."
   ]
  },
  {
   "cell_type": "markdown",
   "id": "6d0c06ca",
   "metadata": {},
   "source": [
    "# Software Initialization"
   ]
  },
  {
   "cell_type": "code",
   "execution_count": null,
   "id": "2c038d5c",
   "metadata": {
    "collapsed": false,
    "jupyter": {
     "outputs_hidden": false
    }
   },
   "outputs": [],
   "source": [
    "from IPython.display import Image\n",
    "\n",
    "import sympy as sym\n",
    "import sympy.physics.mechanics as me\n",
    "\n",
    "import numpy as np\n",
    "\n",
    "from scipy.optimize import fsolve\n",
    "\n",
    "from mayavi import mlab\n",
    "\n",
    "import yeadon"
   ]
  },
  {
   "cell_type": "code",
   "execution_count": null,
   "id": "2465b032",
   "metadata": {
    "collapsed": false,
    "jupyter": {
     "outputs_hidden": false
    }
   },
   "outputs": [],
   "source": [
    "sym.init_printing(print_builtin=False)"
   ]
  },
  {
   "cell_type": "code",
   "execution_count": null,
   "id": "999fa407",
   "metadata": {
    "collapsed": false,
    "jupyter": {
     "outputs_hidden": false
    }
   },
   "outputs": [],
   "source": [
    "%precision 5"
   ]
  },
  {
   "cell_type": "markdown",
   "id": "2987f86f",
   "metadata": {},
   "source": [
    "# Bicycle Geometry"
   ]
  },
  {
   "cell_type": "markdown",
   "id": "4853f0a8",
   "metadata": {},
   "source": [
    "We describe the basic bicycle geometry as follows:\n",
    "\n",
    "- $\\lambda_{st}$: The acute angle between the seat tube axis and the ground plane\n",
    "- $l_{st}$: seat tube length\n",
    "- $l_{sp}$: seat post length\n",
    "- $l_{cs}$: Projected chain stay length (i.e. projected into the $YZ$ plane of the Yeadon base reference frame)\n",
    "- $r_R,r_F$: The rear and front wheel radii.\n",
    "- $h_{bb}$: The bottom bracket height.\n",
    "- $w_{hb}$: The handlebar width (i.e. measured at the grip point).\n",
    "- $w$: wheelbase\n",
    "- $L_{hbF}$: The distance from the center of the front wheel to the left handlebar grip.\n",
    "- $L_{hbR}$: The distance from the center of the rear wheel to the left handlebar grip."
   ]
  },
  {
   "cell_type": "code",
   "execution_count": null,
   "id": "d9601ec7",
   "metadata": {
    "collapsed": false,
    "jupyter": {
     "outputs_hidden": false
    }
   },
   "outputs": [],
   "source": [
    "Image('bicycle-geometry.png')"
   ]
  },
  {
   "cell_type": "markdown",
   "id": "c6f36d0e",
   "metadata": {},
   "source": [
    "# Human Geometry and Configuration"
   ]
  },
  {
   "cell_type": "markdown",
   "id": "3b102990",
   "metadata": {},
   "source": [
    "The human is described by 95 geometrical measurements using Yeadon's method and we will need a subset of them for the configuration computations:\n",
    "\n",
    "- $L_{j3_L}$: distance between knee and hip joint centers\n",
    "- $L_{j5_L}$: distance between ankle and hip joint centers\n",
    "- $L_{j6_L}$: distance between heel and ankle joint center\n",
    "- $L_{s4_L}$: distance between the hip and shoulder levels\n",
    "- $L_{s4_w}$: shoulder width\n",
    "- $L_{a2_L}$: distance between the elbow and shoulder levels\n",
    "- $L_{a4_L}$: distance between the wrist and shoulder levels\n",
    "- $L_{a5_L}$: distance between the base of the thumb and wrist\n",
    "- $\\phi_P$: Somersault angle"
   ]
  },
  {
   "cell_type": "code",
   "execution_count": null,
   "id": "ca429490",
   "metadata": {
    "collapsed": false,
    "jupyter": {
     "outputs_hidden": false
    }
   },
   "outputs": [],
   "source": [
    "Image('https://yeadon.readthedocs.io/en/latest/_images/measurements.png')"
   ]
  },
  {
   "cell_type": "markdown",
   "id": "ba0edd05",
   "metadata": {},
   "source": [
    "The human's configuration is defined by 21 joint angles, also described in Yeadon's method."
   ]
  },
  {
   "cell_type": "code",
   "execution_count": null,
   "id": "ed2699a3",
   "metadata": {
    "collapsed": false,
    "jupyter": {
     "outputs_hidden": false
    }
   },
   "outputs": [],
   "source": [
    "Image('https://yeadon.readthedocs.io/en/latest/_images/configuration.png')"
   ]
  },
  {
   "cell_type": "markdown",
   "id": "02be555b",
   "metadata": {},
   "source": [
    "# Problem Statement"
   ]
  },
  {
   "cell_type": "markdown",
   "id": "4eb081b3",
   "metadata": {},
   "source": [
    "Our first objective is to solve for the `somersault` angle; the leg angles `PJ1extension` and `J1J2flexion`; and the arm angles `CA1extension`, `CA1adduction`, `CA1rotation` and `A1A2extension` that place the rider in the proper configuration on a bicycle. We assume the rider's configuration is symmetric so that the rider's right side configuration is a mirror of the left, for example, `PJ1extension` is equal to `PK1extension`."
   ]
  },
  {
   "cell_type": "markdown",
   "id": "24d5536c",
   "metadata": {},
   "source": [
    "We first configure the rider by adding geometric points of the bicycle to the main Yeadon reference frame that represent the desired location of the butt, hands, and feet. We set the center of the base of the thumb stadia $L_{a5}$ and $L_{b5}$ to lie on the handlebar grips, the origin of the Yeadon model to be at the top of the seat, and the centers of the heel of the foot stadia $L_{j6}$ and $L_{k6}$ to lie on the bottom bracket axis."
   ]
  },
  {
   "cell_type": "markdown",
   "id": "3262d34d",
   "metadata": {},
   "source": [
    "# Yeadon reference frame and origin"
   ]
  },
  {
   "cell_type": "markdown",
   "id": "4c6a97ec",
   "metadata": {},
   "source": [
    "We first define a reference frame that represents the Yeadon model's base frame. The $\\hat{x}$ unit vector is directed from right to left, the $\\hat{y}$ unit vector directed anterior to posterior, and the $\\hat{z}$ unit vector is directed inferior to superior. This is consistent with the configuration figure above."
   ]
  },
  {
   "cell_type": "code",
   "execution_count": null,
   "id": "94661830",
   "metadata": {
    "collapsed": false,
    "jupyter": {
     "outputs_hidden": false
    }
   },
   "outputs": [],
   "source": [
    "yeadon_rf = me.ReferenceFrame('Y')"
   ]
  },
  {
   "cell_type": "markdown",
   "id": "0a1e064b",
   "metadata": {},
   "source": [
    "The origin, $O$, of the Yeadon model is at the base of pelvis."
   ]
  },
  {
   "cell_type": "code",
   "execution_count": null,
   "id": "9af5a33e",
   "metadata": {
    "collapsed": false,
    "jupyter": {
     "outputs_hidden": false
    }
   },
   "outputs": [],
   "source": [
    "origin = me.Point('O')"
   ]
  },
  {
   "cell_type": "markdown",
   "id": "216eae76",
   "metadata": {},
   "source": [
    "# Torso angle"
   ]
  },
  {
   "cell_type": "markdown",
   "id": "dde960ff",
   "metadata": {},
   "source": [
    "The pelvis, $P$, thorax, $T$, and chest, $C$, segements in Yeadon's model are assumed to be fixed relative to each other. The pelvis is then rotated forward through a somersault angle such that the rider's trunk ($P$,$T$, & $C$) is hunched over with respect to the bicycle. Experimentally, we determine the somersault angle, $\\phi_P$, by photographing the seated bicyclist and estimating the angle at which the rider is leaned forward."
   ]
  },
  {
   "cell_type": "code",
   "execution_count": null,
   "id": "0e223877",
   "metadata": {
    "collapsed": false,
    "jupyter": {
     "outputs_hidden": false
    }
   },
   "outputs": [],
   "source": [
    "somersault = sym.symbols('phi_P')"
   ]
  },
  {
   "cell_type": "code",
   "execution_count": null,
   "id": "f80ad58a",
   "metadata": {
    "collapsed": false,
    "jupyter": {
     "outputs_hidden": false
    }
   },
   "outputs": [],
   "source": [
    "pelvis = yeadon_rf.orientnew('P', 'Axis', (somersault, yeadon_rf.x))"
   ]
  },
  {
   "cell_type": "markdown",
   "id": "5a9987a2",
   "metadata": {},
   "source": [
    "This rotation and all remaining rotations are body-fixed $X$-$Y$-$Z$ rotations."
   ]
  },
  {
   "cell_type": "markdown",
   "id": "2dadf4c4",
   "metadata": {},
   "source": [
    "# Leg angles"
   ]
  },
  {
   "cell_type": "markdown",
   "id": "be56fbb5",
   "metadata": {},
   "source": [
    "To place the heels of the rider, $L_{j6}$ and $L_{k6}$, on the bike pedals, we must solve for the required hip extension and knee flexion angles. The thigh is defined to extend at the hip through the angle `PJ1extension` and the lower leg to flex at the knee through the angle `J1J2flexion`. We choose hip adduction to be zero, so the centers of the heels are the same distance from the medial plane as the hip centers are. First, we'll describe the position of the heel from the pelvis. Next, we will describe the position of the bottom bracket from the seat. Then, we will constrain the two positions to be equal."
   ]
  },
  {
   "cell_type": "markdown",
   "id": "ce787393",
   "metadata": {},
   "source": [
    "### Location of the heel (using Yeadon parameters)"
   ]
  },
  {
   "cell_type": "code",
   "execution_count": null,
   "id": "6379c5d9",
   "metadata": {
    "collapsed": false,
    "jupyter": {
     "outputs_hidden": false
    }
   },
   "outputs": [],
   "source": [
    "PJ1extension, J1J2flexion = sym.symbols('phi_J1, phi_J2')"
   ]
  },
  {
   "cell_type": "markdown",
   "id": "6c5c6402",
   "metadata": {},
   "source": [
    "We create two new reference frames for the left thigh, $J1$ and the left lower leg, $J2$."
   ]
  },
  {
   "cell_type": "code",
   "execution_count": null,
   "id": "969f5f70",
   "metadata": {
    "collapsed": false,
    "jupyter": {
     "outputs_hidden": false
    }
   },
   "outputs": [],
   "source": [
    "left_thigh = pelvis.orientnew('J1', 'Axis', (PJ1extension, pelvis.x))\n",
    "left_lower_leg = left_thigh.orientnew('J2', 'Axis', (J1J2flexion, left_thigh.x))"
   ]
  },
  {
   "cell_type": "markdown",
   "id": "762698f7",
   "metadata": {},
   "source": [
    "The heel center is located with respect to the seat via measurements of the subject when standing upright:\n",
    "\n",
    "- $L_{j3_L}$: distance between knee and hip joint centers\n",
    "- $L_{j5_L}$: distance between ankle and hip joint centers\n",
    "- $L_{j6_L}$: distance between heel and ankle joint center\n",
    "\n",
    "The heel point, $H$, is thuse defined:"
   ]
  },
  {
   "cell_type": "code",
   "execution_count": null,
   "id": "73a813f9",
   "metadata": {
    "collapsed": false,
    "jupyter": {
     "outputs_hidden": false
    }
   },
   "outputs": [],
   "source": [
    "thigh_length, Lj5L, Lj6L = sym.symbols('L_j3L, L_j5L, L_j6L')"
   ]
  },
  {
   "cell_type": "code",
   "execution_count": null,
   "id": "ffc731f1",
   "metadata": {
    "collapsed": false,
    "jupyter": {
     "outputs_hidden": false
    }
   },
   "outputs": [],
   "source": [
    "lower_leg_length = (Lj5L - thigh_length) + Lj6L"
   ]
  },
  {
   "cell_type": "code",
   "execution_count": null,
   "id": "7c126a09",
   "metadata": {
    "collapsed": false,
    "jupyter": {
     "outputs_hidden": false
    }
   },
   "outputs": [],
   "source": [
    "heel = origin.locatenew('H', -thigh_length * left_thigh.z - lower_leg_length * left_lower_leg.z)\n",
    "heel.pos_from(origin)"
   ]
  },
  {
   "cell_type": "markdown",
   "id": "b75a53f9",
   "metadata": {},
   "source": [
    "### Location of bottom bracket (using bicycle parameters)"
   ]
  },
  {
   "cell_type": "markdown",
   "id": "603a29db",
   "metadata": {},
   "source": [
    "The seat point, $S$, is the point at the top of the seat that lies on the seat tube axis, and it is coincident with the origin, $O$, of the Yeadon model."
   ]
  },
  {
   "cell_type": "code",
   "execution_count": null,
   "id": "1cf89d7f",
   "metadata": {
    "collapsed": false,
    "jupyter": {
     "outputs_hidden": false
    }
   },
   "outputs": [],
   "source": [
    "seat = origin.locatenew('S', 0)"
   ]
  },
  {
   "cell_type": "markdown",
   "id": "bcbb65f4",
   "metadata": {},
   "source": [
    "The location from the origin to the bottom bracket can be described by the geometrical measurements:\n",
    "\n",
    "- $l_{st}$: seat tube length\n",
    "- $l_{sp}$: seat post length\n",
    "- $\\lambda_{st}$: seat tube angle"
   ]
  },
  {
   "cell_type": "code",
   "execution_count": null,
   "id": "5bd284da",
   "metadata": {
    "collapsed": false,
    "jupyter": {
     "outputs_hidden": false
    }
   },
   "outputs": [],
   "source": [
    "seat_tube_length, seat_post_length, seat_tube_angle = sym.symbols('l_st, l_sp, lambda_st')"
   ]
  },
  {
   "cell_type": "code",
   "execution_count": null,
   "id": "a2cc211c",
   "metadata": {
    "collapsed": false,
    "jupyter": {
     "outputs_hidden": false
    }
   },
   "outputs": [],
   "source": [
    "seat_distance = seat_tube_length + seat_post_length # relative to the bottom bracket\n",
    "bottom_bracket = me.Point('B')\n",
    "bottom_bracket.set_pos(origin, -seat_distance * (sym.cos(seat_tube_angle) * yeadon_rf.y + \n",
    "                                                 sym.sin(seat_tube_angle) * yeadon_rf.z))"
   ]
  },
  {
   "cell_type": "markdown",
   "id": "3aef0bf3",
   "metadata": {},
   "source": [
    "### Kinematic constraints for leg angles"
   ]
  },
  {
   "cell_type": "markdown",
   "id": "813b9e55",
   "metadata": {},
   "source": [
    "We find the hip extension and knee flexion by enforcing that the distance from the heel to the bottom bracket is zero. This gives two nonlinear equations in two unknowns."
   ]
  },
  {
   "cell_type": "code",
   "execution_count": null,
   "id": "080b6fee",
   "metadata": {
    "collapsed": false,
    "jupyter": {
     "outputs_hidden": false
    }
   },
   "outputs": [],
   "source": [
    "leg_zero_vector = bottom_bracket.pos_from(heel)\n",
    "zero1 = me.dot(leg_zero_vector, yeadon_rf.y)\n",
    "zero2 = me.dot(leg_zero_vector, yeadon_rf.z)"
   ]
  },
  {
   "cell_type": "code",
   "execution_count": null,
   "id": "3f2d890b",
   "metadata": {
    "collapsed": false,
    "jupyter": {
     "outputs_hidden": false
    }
   },
   "outputs": [],
   "source": [
    "zero1.trigsimp()"
   ]
  },
  {
   "cell_type": "code",
   "execution_count": null,
   "id": "d31c507f",
   "metadata": {
    "collapsed": false,
    "jupyter": {
     "outputs_hidden": false
    }
   },
   "outputs": [],
   "source": [
    "zero2.trigsimp()"
   ]
  },
  {
   "cell_type": "markdown",
   "id": "03b5398e",
   "metadata": {},
   "source": [
    "These two equations can be solved for the hip extension angle, $\\phi_{J1}$, and the knee flexion angle, $\\phi_{J2}$, given all other variables (remember, we measure $\\phi_{P}$)."
   ]
  },
  {
   "cell_type": "markdown",
   "id": "8da680f9",
   "metadata": {},
   "source": [
    "# Arm angles"
   ]
  },
  {
   "cell_type": "markdown",
   "id": "0e807cdc",
   "metadata": {},
   "source": [
    "The relationship between the bicycle geometry and the arm's coinfguration angles can be found in a similar manner, although now we require full three dimensional rotations. "
   ]
  },
  {
   "cell_type": "markdown",
   "id": "ad494c96",
   "metadata": {},
   "source": [
    "### Location of the hand (using Yeadon parameters)"
   ]
  },
  {
   "cell_type": "markdown",
   "id": "3915fa13",
   "metadata": {},
   "source": [
    "The left shoulder, $A1$, is oriented with respect to the trunk through body-fixed $X$-$Y$-$Z$ rotations $\\phi_{A1}$, $\\theta_{A1}$, and $\\psi_{A1}$."
   ]
  },
  {
   "cell_type": "code",
   "execution_count": null,
   "id": "c5d0d511",
   "metadata": {
    "collapsed": false,
    "jupyter": {
     "outputs_hidden": false
    }
   },
   "outputs": [],
   "source": [
    "CA1extension, CA1adduction, CA1rotation = sym.symbols('phi_A1, theta_A1, psi_A1')"
   ]
  },
  {
   "cell_type": "code",
   "execution_count": null,
   "id": "a9c09719",
   "metadata": {
    "collapsed": false,
    "jupyter": {
     "outputs_hidden": false
    }
   },
   "outputs": [],
   "source": [
    "left_upper_arm = pelvis.orientnew('A1', 'Body',\n",
    "                                  (CA1extension, CA1adduction, CA1rotation), 'XYZ')"
   ]
  },
  {
   "cell_type": "markdown",
   "id": "871b316e",
   "metadata": {},
   "source": [
    "The lower arm is oriented with respect to the upper arm, $A1$, through a simple rotation: `A1A2extension` or $\\phi_{A2}$."
   ]
  },
  {
   "cell_type": "code",
   "execution_count": null,
   "id": "fa247a1d",
   "metadata": {
    "collapsed": false,
    "jupyter": {
     "outputs_hidden": false
    }
   },
   "outputs": [],
   "source": [
    "A1A2extension = sym.symbols('phi_A2')"
   ]
  },
  {
   "cell_type": "code",
   "execution_count": null,
   "id": "54c18bfd",
   "metadata": {
    "collapsed": false,
    "jupyter": {
     "outputs_hidden": false
    }
   },
   "outputs": [],
   "source": [
    "left_lower_arm = left_upper_arm.orientnew('A2', 'Axis', (A1A2extension, left_upper_arm.x))"
   ]
  },
  {
   "cell_type": "markdown",
   "id": "a02b3b8f",
   "metadata": {},
   "source": [
    "To define the position of the hand, we require the following measurements, all of which come from the measurements figure above.\n",
    "\n",
    "- $L_{s4_L}$: distance between the hip and shoulder levels\n",
    "- $L_{s4_w}$: shoulder width\n",
    "- $L_{a2_L}$: distance between the elbow and shoulder levels\n",
    "- $L_{a4_L}$: distance between the wrist and shoulder levels\n",
    "- $L_{a5_L}$: distance between the base of the thumb and wrist"
   ]
  },
  {
   "cell_type": "code",
   "execution_count": null,
   "id": "de52c2f6",
   "metadata": {
    "collapsed": false,
    "jupyter": {
     "outputs_hidden": false
    }
   },
   "outputs": [],
   "source": [
    "shoulder_width = sym.symbols('L_s4w')\n",
    "torso_length, upper_arm_length, La4L, La5L = sym.symbols('L_s4L, L_a2L, L_a4L, L_a5L')"
   ]
  },
  {
   "cell_type": "code",
   "execution_count": null,
   "id": "f01b359d",
   "metadata": {
    "collapsed": false,
    "jupyter": {
     "outputs_hidden": false
    }
   },
   "outputs": [],
   "source": [
    "shoulder = origin.locatenew('La0', shoulder_width / 2 * pelvis.x + torso_length * pelvis.z)\n",
    "lower_arm_length = (La4L - upper_arm_length) + La5L\n",
    "hand = shoulder.locatenew('H', -upper_arm_length * left_upper_arm.z - lower_arm_length * left_lower_arm.z)"
   ]
  },
  {
   "cell_type": "markdown",
   "id": "1e2cf81c",
   "metadata": {},
   "source": [
    "### Location of handlebar grip (using bicycle parameters)"
   ]
  },
  {
   "cell_type": "markdown",
   "id": "de0b541d",
   "metadata": {},
   "source": [
    "Now, we locate the handlebar grip points with respect to the seat. But several new bicycle geometric quantities are needed. We choose quantities that are simple to measure in practice, and will use these to solve for quantities that are more natural to use in our model.\n",
    "\n",
    "- $l_{cs}$: Projected chain stay length (i.e., projected into the $YZ$ plane of the Yeadon base reference frame).\n",
    "- $r_R, r_F$: The rear and front wheel radii.\n",
    "- $h_{bb}$: The height of the bottom bracket from the ground.\n",
    "- $w_{hb}$: The handlebar width (i.e., measured between the grip points).\n",
    "- $w$: wheelbase\n",
    "\n",
    "We define four unknowns that give the $Y$ and $Z$ measures of the vectors from the front and rear wheel centers to the handlebar grips: $\\alpha_{y}$, $\\alpha_{z}$, $\\beta_{y}$, $\\beta_{z}$."
   ]
  },
  {
   "cell_type": "code",
   "execution_count": null,
   "id": "99c24ee5",
   "metadata": {
    "collapsed": false,
    "jupyter": {
     "outputs_hidden": false
    }
   },
   "outputs": [],
   "source": [
    "chain_stay_length = sym.symbols('l_cs')\n",
    "front_wheel_radius, rear_wheel_radius = sym.symbols('r_F, r_R')\n",
    "bottom_bracket_height = sym.symbols('h_bb')\n",
    "handle_width = sym.symbols('w_hb')\n",
    "wheelbase = sym.symbols('w')\n",
    "alpha_y, alpha_z, beta_y, beta_z = sym.symbols('alpha_y, alpha_z, beta_y, beta_z')"
   ]
  },
  {
   "cell_type": "code",
   "execution_count": null,
   "id": "0019bbe5",
   "metadata": {
    "collapsed": false,
    "jupyter": {
     "outputs_hidden": false
    }
   },
   "outputs": [],
   "source": [
    "rear_wheel_center = me.Point('cR')\n",
    "measure_z = rear_wheel_radius - bottom_bracket_height\n",
    "measure_y = sym.sqrt(chain_stay_length**2 - (measure_z)**2)\n",
    "rear_wheel_center.set_pos(bottom_bracket,\n",
    "                          measure_y * yeadon_rf.y +\n",
    "                          measure_z * yeadon_rf.z)\n",
    "\n",
    "front_wheel_center = me.Point('cF')\n",
    "front_wheel_center.set_pos(rear_wheel_center,\n",
    "                           -rear_wheel_radius * yeadon_rf.z - \n",
    "                           wheelbase * yeadon_rf.y +\n",
    "                           front_wheel_radius * yeadon_rf.z)\n",
    "\n",
    "grip_defined_from_front = me.Point('hbF')\n",
    "grip_defined_from_front.set_pos(front_wheel_center,\n",
    "                                handle_width / 2.0 * yeadon_rf.x +\n",
    "                                alpha_y * yeadon_rf.y +\n",
    "                                alpha_z * yeadon_rf.z)\n",
    "\n",
    "grip_defined_from_rear = me.Point('hbR')\n",
    "grip_defined_from_rear.set_pos(rear_wheel_center,\n",
    "                               handle_width / 2.0 * yeadon_rf.x +\n",
    "                               beta_y * yeadon_rf.y + \n",
    "                               beta_z * yeadon_rf.z)"
   ]
  },
  {
   "cell_type": "markdown",
   "id": "0ae592a1",
   "metadata": {},
   "source": [
    "The last two vectors are expressed in terms of unknowns. Now, we'll solve for those unknowns, using measured values for the distances between the wheel centers and the handle grip, $L_{hbF}, L_{hbR}$. We require the `seat` point we defined in a previous section. We know that the magnitudes of the vectors from the wheel centers to the grip must equate to the measurements."
   ]
  },
  {
   "cell_type": "code",
   "execution_count": null,
   "id": "08cc4f2f",
   "metadata": {
    "collapsed": false,
    "jupyter": {
     "outputs_hidden": false
    }
   },
   "outputs": [],
   "source": [
    "front_to_grip_distance, rear_to_grip_distance = sym.symbols('L_hbF, L_hbR')"
   ]
  },
  {
   "cell_type": "code",
   "execution_count": null,
   "id": "5527b107",
   "metadata": {
    "collapsed": false,
    "jupyter": {
     "outputs_hidden": false
    }
   },
   "outputs": [],
   "source": [
    "zero3 = grip_defined_from_front.pos_from(front_wheel_center).magnitude() - front_to_grip_distance\n",
    "zero4 = grip_defined_from_rear.pos_from(rear_wheel_center).magnitude() - rear_to_grip_distance"
   ]
  },
  {
   "cell_type": "code",
   "execution_count": null,
   "id": "4e87a585",
   "metadata": {
    "collapsed": false,
    "jupyter": {
     "outputs_hidden": false
    }
   },
   "outputs": [],
   "source": [
    "zero3.trigsimp()"
   ]
  },
  {
   "cell_type": "code",
   "execution_count": null,
   "id": "aa36473c",
   "metadata": {
    "collapsed": false,
    "jupyter": {
     "outputs_hidden": false
    }
   },
   "outputs": [],
   "source": [
    "zero4.trigsimp()"
   ]
  },
  {
   "cell_type": "markdown",
   "id": "fe1903ad",
   "metadata": {},
   "source": [
    "Furthermore, the two handlebar vectors relative to the seat must be equal."
   ]
  },
  {
   "cell_type": "code",
   "execution_count": null,
   "id": "91e9a940",
   "metadata": {
    "collapsed": false,
    "jupyter": {
     "outputs_hidden": false
    }
   },
   "outputs": [],
   "source": [
    "bike_param_zero_vector = (grip_defined_from_front.pos_from(seat) - \n",
    "                          grip_defined_from_rear.pos_from(seat))\n",
    "zero5 = me.dot(bike_param_zero_vector, yeadon_rf.y)\n",
    "zero6 = me.dot(bike_param_zero_vector, yeadon_rf.z)"
   ]
  },
  {
   "cell_type": "code",
   "execution_count": null,
   "id": "a0355c18",
   "metadata": {
    "collapsed": false,
    "jupyter": {
     "outputs_hidden": false
    }
   },
   "outputs": [],
   "source": [
    "zero5"
   ]
  },
  {
   "cell_type": "code",
   "execution_count": null,
   "id": "a754b59c",
   "metadata": {
    "collapsed": false,
    "jupyter": {
     "outputs_hidden": false
    }
   },
   "outputs": [],
   "source": [
    "zero6"
   ]
  },
  {
   "cell_type": "markdown",
   "id": "b2b0cae1",
   "metadata": {},
   "source": [
    "These four equations can be solved for $\\alpha_{y}$, $\\alpha_{z}$, $\\beta_{y}$, $\\beta_{z}$. Now, we know the position of the handlebar grip point, through `grip_defined_from_front` or `grip_defined_from_rear` in terms of the bicycle's geometry."
   ]
  },
  {
   "cell_type": "markdown",
   "id": "5eb68616",
   "metadata": {},
   "source": [
    "### Kinematic constraints for arm angles"
   ]
  },
  {
   "cell_type": "markdown",
   "id": "4b60b09b",
   "metadata": {},
   "source": [
    "Finally, we generate equations to solve for the arm angles with the additional assumption that the plane defined by axis of the upper arm is always parallel to the ground, $XY$ plane."
   ]
  },
  {
   "cell_type": "code",
   "execution_count": null,
   "id": "a073e4da",
   "metadata": {
    "collapsed": false,
    "jupyter": {
     "outputs_hidden": false
    }
   },
   "outputs": [],
   "source": [
    "arm_zero_vector = hand.pos_from(origin) - grip_defined_from_rear.pos_from(origin)\n",
    "zero7 = me.dot(arm_zero_vector, yeadon_rf.x)\n",
    "zero8 = me.dot(arm_zero_vector, yeadon_rf.y)\n",
    "zero9 = me.dot(arm_zero_vector, yeadon_rf.z)"
   ]
  },
  {
   "cell_type": "code",
   "execution_count": null,
   "id": "138d129e",
   "metadata": {
    "collapsed": false,
    "jupyter": {
     "outputs_hidden": false
    }
   },
   "outputs": [],
   "source": [
    "zero7.trigsimp()"
   ]
  },
  {
   "cell_type": "code",
   "execution_count": null,
   "id": "37720afc",
   "metadata": {
    "collapsed": false,
    "jupyter": {
     "outputs_hidden": false
    }
   },
   "outputs": [],
   "source": [
    "zero8.trigsimp()"
   ]
  },
  {
   "cell_type": "code",
   "execution_count": null,
   "id": "a0d10d9b",
   "metadata": {
    "collapsed": false,
    "jupyter": {
     "outputs_hidden": false
    }
   },
   "outputs": [],
   "source": [
    "zero9.trigsimp()"
   ]
  },
  {
   "cell_type": "markdown",
   "id": "55bc4534",
   "metadata": {},
   "source": [
    "The arm x unit vector is orthogonal to Yeadon z unit vector (i.e. parallel to the ground)."
   ]
  },
  {
   "cell_type": "code",
   "execution_count": null,
   "id": "b5445499",
   "metadata": {
    "collapsed": false,
    "jupyter": {
     "outputs_hidden": false
    }
   },
   "outputs": [],
   "source": [
    "zero10 = me.dot(left_upper_arm.x, yeadon_rf.z)"
   ]
  },
  {
   "cell_type": "code",
   "execution_count": null,
   "id": "b2bca05f",
   "metadata": {
    "collapsed": false,
    "jupyter": {
     "outputs_hidden": false
    }
   },
   "outputs": [],
   "source": [
    "zero10.trigsimp()"
   ]
  },
  {
   "cell_type": "markdown",
   "id": "56915a59",
   "metadata": {},
   "source": [
    "These four equations allow us to solve for $\\phi_{A1}$, $\\theta_{A1}$, $\\psi_{A}$, and $\\phi_{A2}$."
   ]
  },
  {
   "cell_type": "markdown",
   "id": "7d96c709",
   "metadata": {},
   "source": [
    "# Numerical Solution"
   ]
  },
  {
   "cell_type": "markdown",
   "id": "2e170c50",
   "metadata": {},
   "source": [
    "We now have 10 equations that we can solve simultaneously for the left leg and left arm angles. This will generally require give good guesses in the numerical solver."
   ]
  },
  {
   "cell_type": "code",
   "execution_count": null,
   "id": "73d56a4a",
   "metadata": {
    "collapsed": false,
    "jupyter": {
     "outputs_hidden": false
    }
   },
   "outputs": [],
   "source": [
    "equations = [zero1, zero2, zero3, zero4, zero5, zero6, zero7, zero8, zero9, zero10]"
   ]
  },
  {
   "cell_type": "markdown",
   "id": "7b4e1b39",
   "metadata": {},
   "source": [
    "We need to solve the ten equations for $\\phi_{J1},\\phi_{J2},\\phi_{A1},\\theta_{A1},\\psi_{A1},\\phi_{A2},\\alpha_{y},\\alpha_{z},\\beta_{y},\\beta_{z}$ given values for all of the measurements. The first two equations for the leg angles are not coupled to the remaining equations for the arms. Also, these are nonlinear equations; we will need to use a solver such as `scipy.optimize.fsolve` to find the solutions to the equations."
   ]
  },
  {
   "cell_type": "markdown",
   "id": "1eae25ca",
   "metadata": {},
   "source": [
    "Here we list all the known measurements, as well as all the unknowns for which we are solving. Note that the order is important."
   ]
  },
  {
   "cell_type": "code",
   "execution_count": null,
   "id": "f1a1570a",
   "metadata": {
    "collapsed": false,
    "jupyter": {
     "outputs_hidden": false
    }
   },
   "outputs": [],
   "source": [
    "unknown_symbols = (PJ1extension, J1J2flexion, CA1extension, CA1adduction, CA1rotation, A1A2extension,\n",
    "                   alpha_y, alpha_z, beta_y, beta_z)\n",
    "\n",
    "bicycle_measurement_symbols = (seat_tube_length, seat_post_length, seat_tube_angle, chain_stay_length, \n",
    "                               front_wheel_radius, rear_wheel_radius, bottom_bracket_height, handle_width, \n",
    "                               wheelbase, front_to_grip_distance, rear_to_grip_distance)\n",
    "\n",
    "human_measurement_symbols = (thigh_length, Lj5L, Lj6L, torso_length, shoulder_width, upper_arm_length,\n",
    "                             La4L, La5L, somersault)\n",
    "\n",
    "all_symbols = unknown_symbols + bicycle_measurement_symbols + human_measurement_symbols"
   ]
  },
  {
   "cell_type": "markdown",
   "id": "e5057551",
   "metadata": {},
   "source": [
    "Now we generate a function that is based on the SymPy expressions and that can be evaluated numerically."
   ]
  },
  {
   "cell_type": "code",
   "execution_count": null,
   "id": "cdb1ca39",
   "metadata": {
    "collapsed": false,
    "jupyter": {
     "outputs_hidden": false
    }
   },
   "outputs": [],
   "source": [
    "numerical_function = sym.lambdify(all_symbols, equations, modules=\"numpy\")"
   ]
  },
  {
   "cell_type": "markdown",
   "id": "7f3094ce",
   "metadata": {},
   "source": [
    "These are typical values of the measurements, expressed in meters except otherwise noted (from the Browser bicycle: http://moorepants.github.io/dissertation/physicalparameters.html#parameter-tables)."
   ]
  },
  {
   "cell_type": "code",
   "execution_count": null,
   "id": "4e7cbdbb",
   "metadata": {
    "collapsed": false,
    "jupyter": {
     "outputs_hidden": false
    }
   },
   "outputs": [],
   "source": [
    "n_lst = 0.53\n",
    "n_lsp = 0.24\n",
    "n_lamst = 1.195550538 # radians\n",
    "n_lcs = 0.46\n",
    "n_rF = 0.34352982332\n",
    "n_rR = 0.340958858855\n",
    "n_hbb = 0.295\n",
    "n_whb = 0.58\n",
    "n_w = 1.121\n",
    "n_LhbF = 0.8930\n",
    "n_LhbR = 0.9213"
   ]
  },
  {
   "cell_type": "code",
   "execution_count": null,
   "id": "6609653c",
   "metadata": {
    "collapsed": false,
    "jupyter": {
     "outputs_hidden": false
    }
   },
   "outputs": [],
   "source": [
    "args = [n_lst, n_lsp, n_lamst, n_lcs, n_rF, n_rR, n_hbb, n_whb, n_w, n_LhbF, n_LhbR]"
   ]
  },
  {
   "cell_type": "markdown",
   "id": "8116484b",
   "metadata": {},
   "source": [
    "These typical measurements in meters from an adult rider for the Yeadon model (Jason's measurements) can be loaded from a YAML file using the Yeadon package."
   ]
  },
  {
   "cell_type": "code",
   "execution_count": null,
   "id": "7ea1e14a",
   "metadata": {
    "collapsed": false,
    "jupyter": {
     "outputs_hidden": false
    }
   },
   "outputs": [],
   "source": [
    "human = yeadon.Human('JasonYeadonMeas.txt')"
   ]
  },
  {
   "cell_type": "markdown",
   "id": "fc568e2d",
   "metadata": {},
   "source": [
    "We then add the needed measurements to the `args` variable."
   ]
  },
  {
   "cell_type": "code",
   "execution_count": null,
   "id": "c53c67de",
   "metadata": {
    "collapsed": false,
    "jupyter": {
     "outputs_hidden": false
    }
   },
   "outputs": [],
   "source": [
    "for measurement in ['Lj3L', 'Lj5L', 'Lj6L', 'Ls4L', 'Ls4w', 'La2L', 'La4L', 'La5L']:\n",
    "    args.append(human.meas[measurement])\n",
    "#n_somersault = 0.123918377 # radians\n",
    "n_somersault = 0.175 # try 10 degrees instead of actual measurement because of incompatible geometry\n",
    "args.append(n_somersault)"
   ]
  },
  {
   "cell_type": "markdown",
   "id": "358fae45",
   "metadata": {},
   "source": [
    "Now we must give initial guesses for all of the unknowns. These should be close to the correct solution:"
   ]
  },
  {
   "cell_type": "code",
   "execution_count": null,
   "id": "f3d82a75",
   "metadata": {
    "collapsed": false,
    "jupyter": {
     "outputs_hidden": false
    }
   },
   "outputs": [],
   "source": [
    "g_PJ1extension = -np.deg2rad(90.0)\n",
    "g_J1J2flexion = np.deg2rad(75.0)\n",
    "g_CA1extension = -np.deg2rad(15.0)\n",
    "g_CA1adduction = np.deg2rad(2.0)\n",
    "g_CA1rotation = np.deg2rad(2.0)\n",
    "g_A1A2extension = -np.deg2rad(40.0)\n",
    "g_alpha_y = n_LhbF * np.cos(np.deg2rad(45.0))\n",
    "g_alpha_z = n_LhbF * np.sin(np.deg2rad(45.0))\n",
    "g_beta_y = -n_LhbR * np.cos(np.deg2rad(30.0))\n",
    "g_beta_z = n_LhbR * np.sin(np.deg2rad(30.0))\n",
    "\n",
    "guess = [g_PJ1extension, g_J1J2flexion, g_CA1extension, g_CA1adduction, g_CA1rotation, g_A1A2extension,\n",
    "         g_alpha_y, g_alpha_z, g_beta_y, g_beta_z]"
   ]
  },
  {
   "cell_type": "markdown",
   "id": "5dec6aca",
   "metadata": {},
   "source": [
    "Now we use `scipy.optimize.fsolve` to hone in on the exact solution."
   ]
  },
  {
   "cell_type": "code",
   "execution_count": null,
   "id": "b42a9e75",
   "metadata": {
    "collapsed": false,
    "jupyter": {
     "outputs_hidden": false
    }
   },
   "outputs": [],
   "source": [
    "def my_nonlinear_function(unknowns, knowns):\n",
    "    \"\"\"Returns the value of the vector nonlinear function given the measured quantities.\n",
    "    \n",
    "    Parameters\n",
    "    ----------\n",
    "    unknowns : array_like, shape(10,)\n",
    "        The numerical values of the unknown quantities, \n",
    "        i.e. joint angles and d_ry, d_rz, d_fy, d_fz.\n",
    "    knowns : array_like, shape(19,)\n",
    "        The numerical values of the known quantities: human and \n",
    "        bicycle geometry.\n",
    "        \n",
    "    Returns\n",
    "    -------\n",
    "    sol : ndarray, shape(10,)\n",
    "    \n",
    "    \"\"\"\n",
    "    all_values = np.hstack((unknowns, knowns))\n",
    "    return np.array(numerical_function(*all_values))"
   ]
  },
  {
   "cell_type": "code",
   "execution_count": null,
   "id": "9ddbcd3b",
   "metadata": {
    "collapsed": false,
    "jupyter": {
     "outputs_hidden": false
    }
   },
   "outputs": [],
   "source": [
    "solution = fsolve(my_nonlinear_function, guess, args)"
   ]
  },
  {
   "cell_type": "markdown",
   "id": "5bc31730",
   "metadata": {},
   "source": [
    "We can see that the solution evaluates the functions to zero."
   ]
  },
  {
   "cell_type": "code",
   "execution_count": null,
   "id": "667134f2",
   "metadata": {
    "collapsed": false,
    "jupyter": {
     "outputs_hidden": false
    }
   },
   "outputs": [],
   "source": [
    "my_nonlinear_function(solution, args)"
   ]
  },
  {
   "cell_type": "code",
   "execution_count": null,
   "id": "beb6c953",
   "metadata": {
    "collapsed": false,
    "jupyter": {
     "outputs_hidden": false
    }
   },
   "outputs": [],
   "source": [
    "for s, v in zip(unknown_symbols, solution):\n",
    "    print('{} = {:1.2f}'.format(s, v))"
   ]
  },
  {
   "cell_type": "markdown",
   "id": "f682fd3d",
   "metadata": {},
   "source": [
    "The magnitude of the vectors from the front and rear wheel centers to the grip should be equal to the measured distances, $L_{hbf}$ and $L_{hbR}$."
   ]
  },
  {
   "cell_type": "code",
   "execution_count": null,
   "id": "4c8af18e",
   "metadata": {
    "collapsed": false,
    "jupyter": {
     "outputs_hidden": false
    }
   },
   "outputs": [],
   "source": [
    "print('{} == {}'.format(np.sqrt((n_whb / 2) ** 2 + solution[-3] ** 2 + solution[-4] ** 2), n_LhbF))"
   ]
  },
  {
   "cell_type": "code",
   "execution_count": null,
   "id": "724fa518",
   "metadata": {
    "collapsed": false,
    "jupyter": {
     "outputs_hidden": false
    }
   },
   "outputs": [],
   "source": [
    "print('{} == {}'.format(np.sqrt((n_whb / 2) ** 2 + solution[-1] ** 2 + solution[-2] ** 2), n_LhbR))"
   ]
  },
  {
   "cell_type": "markdown",
   "id": "25ee5684",
   "metadata": {},
   "source": [
    "The equations can also be printed as Python code."
   ]
  },
  {
   "cell_type": "code",
   "execution_count": null,
   "id": "34cd0d47",
   "metadata": {
    "collapsed": false,
    "jupyter": {
     "outputs_hidden": false
    }
   },
   "outputs": [],
   "source": [
    "for i, eq in enumerate(equations):\n",
    "    print('zero[{}] = {}'.format(i, sym.printing.lambdarepr.lambdarepr(eq)))\n",
    "    print('')"
   ]
  },
  {
   "cell_type": "markdown",
   "id": "1599801c",
   "metadata": {},
   "source": [
    "# Configure the Yeadon model"
   ]
  },
  {
   "cell_type": "markdown",
   "id": "39edd401",
   "metadata": {},
   "source": [
    "We have completed our first objective! We have oriented the rider to sit on the bicycle. Now, we need to determine the rider's inertia properties? First, we tell the Yeadon `human` object about the configuration in which we want the rider. The default dictionary can be extracted from the human object with:"
   ]
  },
  {
   "cell_type": "code",
   "execution_count": null,
   "id": "5e5dffba",
   "metadata": {
    "collapsed": false,
    "jupyter": {
     "outputs_hidden": false
    }
   },
   "outputs": [],
   "source": [
    "cfg_dict = human.CFG.copy()"
   ]
  },
  {
   "cell_type": "markdown",
   "id": "7abdee4e",
   "metadata": {},
   "source": [
    "The left side can be set with the solution:"
   ]
  },
  {
   "cell_type": "code",
   "execution_count": null,
   "id": "1a3bd75a",
   "metadata": {
    "collapsed": false,
    "jupyter": {
     "outputs_hidden": false
    }
   },
   "outputs": [],
   "source": [
    "cfg_dict['PJ1extension'] = solution[0]\n",
    "cfg_dict['J1J2flexion'] = solution[1]\n",
    "cfg_dict['CA1extension'] = solution[2]\n",
    "cfg_dict['CA1adduction'] = solution[3]\n",
    "cfg_dict['CA1rotation'] = solution[4]\n",
    "cfg_dict['A1A2extension'] = solution[5]\n",
    "cfg_dict['somersault'] = n_somersault"
   ]
  },
  {
   "cell_type": "markdown",
   "id": "2ca20d7c",
   "metadata": {},
   "source": [
    "And the right side can just be a mirror of the left."
   ]
  },
  {
   "cell_type": "code",
   "execution_count": null,
   "id": "27e6df3f",
   "metadata": {
    "collapsed": false,
    "jupyter": {
     "outputs_hidden": false
    }
   },
   "outputs": [],
   "source": [
    "cfg_dict['PK1extension'] = cfg_dict['PJ1extension']\n",
    "cfg_dict['K1K2flexion'] = cfg_dict['J1J2flexion']\n",
    "cfg_dict['CB1extension'] = cfg_dict['CA1extension'] \n",
    "cfg_dict['CB1abduction'] = -cfg_dict['CA1adduction']\n",
    "cfg_dict['CB1rotation'] = -cfg_dict['CA1rotation']\n",
    "cfg_dict['B1B2extension'] = cfg_dict['A1A2extension']"
   ]
  },
  {
   "cell_type": "markdown",
   "id": "3f22c01b",
   "metadata": {},
   "source": [
    "The values of the configuration are:"
   ]
  },
  {
   "cell_type": "code",
   "execution_count": null,
   "id": "4c500a16",
   "metadata": {
    "collapsed": false,
    "jupyter": {
     "outputs_hidden": false
    }
   },
   "outputs": [],
   "source": [
    "cfg_dict"
   ]
  },
  {
   "cell_type": "markdown",
   "id": "8aad1b7c",
   "metadata": {},
   "source": [
    "The configuration can the be set with:"
   ]
  },
  {
   "cell_type": "code",
   "execution_count": null,
   "id": "be769afa",
   "metadata": {
    "collapsed": false,
    "jupyter": {
     "outputs_hidden": false
    }
   },
   "outputs": [],
   "source": [
    "human.set_CFG_dict(cfg_dict)"
   ]
  },
  {
   "cell_type": "markdown",
   "id": "dccaa1eb",
   "metadata": {},
   "source": [
    "# Visualize the configuration"
   ]
  },
  {
   "cell_type": "markdown",
   "id": "2dccd2be",
   "metadata": {},
   "source": [
    "Before visualizing the human in the correct configuration we will add the basic geometry of the bicycle for reference."
   ]
  },
  {
   "cell_type": "code",
   "execution_count": null,
   "id": "94c4451f",
   "metadata": {
    "collapsed": false,
    "jupyter": {
     "outputs_hidden": false
    }
   },
   "outputs": [],
   "source": [
    "def numerical_vector(point, origin, ref_frame):\n",
    "    \"\"\"Returns an (3,) length array with the x, y, z coordinates of the\n",
    "    given point with respect to the given origin in the given reference frame.\"\"\"\n",
    "    matrix = point.pos_from(origin).to_matrix(ref_frame)\n",
    "    f = sym.lambdify(all_symbols, matrix, modules='numpy')\n",
    "    return np.array(f(*np.hstack((solution, args)))).flatten()"
   ]
  },
  {
   "cell_type": "code",
   "execution_count": null,
   "id": "d4e62f2e",
   "metadata": {
    "collapsed": false,
    "jupyter": {
     "outputs_hidden": false
    }
   },
   "outputs": [],
   "source": [
    "numerical_vec_to_fc = numerical_vector(front_wheel_center, origin, yeadon_rf)\n",
    "numerical_vec_to_rc = numerical_vector(rear_wheel_center, origin, yeadon_rf)"
   ]
  },
  {
   "cell_type": "code",
   "execution_count": null,
   "id": "fbe60103",
   "metadata": {
    "collapsed": false,
    "jupyter": {
     "outputs_hidden": false
    }
   },
   "outputs": [],
   "source": [
    "numerical_vec_to_left_grip = numerical_vector(grip_defined_from_front, origin, yeadon_rf)\n",
    "numerical_vec_to_bottom_bracket = numerical_vector(bottom_bracket, origin, yeadon_rf)"
   ]
  },
  {
   "cell_type": "code",
   "execution_count": null,
   "id": "aa52aaac",
   "metadata": {
    "collapsed": false,
    "jupyter": {
     "outputs_hidden": false
    }
   },
   "outputs": [],
   "source": [
    "def add_torus(outer_radius, cross_section_radius, center, orientation):\n",
    "    \"\"\"Adds a torus to represent the bicycle wheeels to the scene.\"\"\"\n",
    "    torus = mlab.pipeline.parametric_surface()\n",
    "    torus.function = 'torus'\n",
    "    torus.parametric_function.ring_radius = outer_radius - cross_section_radius\n",
    "    torus.parametric_function.cross_section_radius = cross_section_radius\n",
    "    mlab.pipeline.surface(torus)\n",
    "    torus.children[0].children[0].actor.actor.orientation = orientation\n",
    "    torus.children[0].children[0].actor.actor.position = center\n",
    "    return torus"
   ]
  },
  {
   "cell_type": "code",
   "execution_count": null,
   "id": "304c6166",
   "metadata": {
    "collapsed": false,
    "jupyter": {
     "outputs_hidden": false
    }
   },
   "outputs": [],
   "source": [
    "front_torus = add_torus(n_rF - 0.02, 0.02, numerical_vec_to_fc, np.array([0.0, 90.0, 0.0]))\n",
    "rear_torus = add_torus(n_rR - 0.02, 0.02, numerical_vec_to_rc, np.array([0.0, 90.0, 0.0]))"
   ]
  },
  {
   "cell_type": "markdown",
   "id": "788c9ff8",
   "metadata": {},
   "source": [
    "Show some important points:"
   ]
  },
  {
   "cell_type": "code",
   "execution_count": null,
   "id": "e20a3815",
   "metadata": {
    "collapsed": false,
    "jupyter": {
     "outputs_hidden": false
    }
   },
   "outputs": [],
   "source": [
    "points = np.vstack((numerical_vec_to_left_grip,\n",
    "                    numerical_vec_to_bottom_bracket,\n",
    "                    numerical_vec_to_fc,\n",
    "                    numerical_vec_to_rc))\n",
    "points"
   ]
  },
  {
   "cell_type": "code",
   "execution_count": null,
   "id": "abb0c91f",
   "metadata": {
    "collapsed": false,
    "jupyter": {
     "outputs_hidden": false
    }
   },
   "outputs": [],
   "source": [
    "null = mlab.points3d(points[:, 0], points[:, 1], points[:, 2],\n",
    "                     0.125 * np.ones_like(points[:, 0]), scale_factor=1.0)"
   ]
  },
  {
   "cell_type": "markdown",
   "id": "28f18bb9",
   "metadata": {},
   "source": [
    "Draw the Yeadon model:"
   ]
  },
  {
   "cell_type": "code",
   "execution_count": null,
   "id": "bdd700fe",
   "metadata": {
    "collapsed": false,
    "jupyter": {
     "outputs_hidden": false
    }
   },
   "outputs": [],
   "source": [
    "human.draw(mlabobj=mlab, gui=True)"
   ]
  },
  {
   "cell_type": "markdown",
   "id": "831ecf7a",
   "metadata": {},
   "source": [
    "Take some orthographic screen shots:"
   ]
  },
  {
   "cell_type": "code",
   "execution_count": null,
   "id": "f3a38e90",
   "metadata": {
    "collapsed": false,
    "jupyter": {
     "outputs_hidden": false
    }
   },
   "outputs": [],
   "source": [
    "mlab.view(azimuth=0.0, elevation=90.0)\n",
    "mlab.get_engine().scenes[0].scene.camera.parallel_projection = True\n",
    "mlab.orientation_axes()\n",
    "mlab.savefig('side-view.png')\n",
    "Image('side-view.png') #, width='800px')"
   ]
  },
  {
   "cell_type": "code",
   "execution_count": null,
   "id": "2afab989",
   "metadata": {
    "collapsed": false,
    "jupyter": {
     "outputs_hidden": false
    }
   },
   "outputs": [],
   "source": [
    "mlab.view(azimuth=-90.0)\n",
    "mlab.savefig('front-view.png')\n",
    "Image('front-view.png') #, width='800px')"
   ]
  },
  {
   "cell_type": "code",
   "execution_count": null,
   "id": "0e3123e2-7f30-49db-9bc8-e7ad24760426",
   "metadata": {},
   "outputs": [],
   "source": [
    "mlab.close()"
   ]
  },
  {
   "cell_type": "markdown",
   "id": "7d1f5a53",
   "metadata": {},
   "source": [
    "# Human inertia"
   ]
  },
  {
   "cell_type": "markdown",
   "id": "3b27fb10",
   "metadata": {},
   "source": [
    "The inertial properties of the human in this configuration can be expressed in the Yeadon reference frame with respect to the center of mass of the human:\n"
   ]
  },
  {
   "cell_type": "code",
   "execution_count": null,
   "id": "6888f7d4",
   "metadata": {
    "collapsed": false,
    "jupyter": {
     "outputs_hidden": false
    }
   },
   "outputs": [],
   "source": [
    "human.mass"
   ]
  },
  {
   "cell_type": "code",
   "execution_count": null,
   "id": "f7610667",
   "metadata": {
    "collapsed": false,
    "jupyter": {
     "outputs_hidden": false
    }
   },
   "outputs": [],
   "source": [
    "human.center_of_mass"
   ]
  },
  {
   "cell_type": "code",
   "execution_count": null,
   "id": "94b5ad81",
   "metadata": {
    "collapsed": false,
    "jupyter": {
     "outputs_hidden": false
    }
   },
   "outputs": [],
   "source": [
    "human.inertia"
   ]
  },
  {
   "cell_type": "markdown",
   "id": "a161db68",
   "metadata": {},
   "source": [
    "# Express inertia in bicycle reference frame"
   ]
  },
  {
   "cell_type": "markdown",
   "id": "4ce2a796",
   "metadata": {},
   "source": [
    "[Miejaard et. al 2007](http://dx.doi.org/10.1098/rspa.2007.1857) uses the SAE standard for defining the reference frame of a bicycle. The $\\hat{x}_b$ unit vector is directed from the back to the front of the bicycle, the $\\hat{y}_b$ is directed from the left side of the bicycle to the right side, and the $\\hat{z}_b$ is directed from top to bottom. So to rotate a reference frame relative to the Yeadon base reference frame into alignment with the bicycle reference frame, you can first rotate through $\\pi$ about $\\hat{x}$ and then through $-\\frac{\\pi}{2}$ about $\\hat{z}$. The direction cosine matrix that transforms a vector in blank to a vector in blank is then: "
   ]
  },
  {
   "cell_type": "code",
   "execution_count": null,
   "id": "84b85dfc",
   "metadata": {
    "collapsed": false,
    "jupyter": {
     "outputs_hidden": false
    }
   },
   "outputs": [],
   "source": [
    "bicycle_rf = yeadon_rf.orientnew('B', 'Space', (sym.pi, -sym.pi / 2, 0), 'XZY')\n",
    "bicycle_rf.dcm(yeadon_rf)"
   ]
  },
  {
   "cell_type": "markdown",
   "id": "084986c8",
   "metadata": {},
   "source": [
    "The inertia of the human with respect to the bicycle reference frame and about the human center of mass is then found by:"
   ]
  },
  {
   "cell_type": "code",
   "execution_count": null,
   "id": "256188af",
   "metadata": {
    "collapsed": false,
    "jupyter": {
     "outputs_hidden": false
    }
   },
   "outputs": [],
   "source": [
    "R = np.array([[0.0, -1.0, 0.0],\n",
    "              [-1.0, 0.0, 0.0],\n",
    "              [0.0, 0.0, -1.0]])\n",
    "human.inertia_transformed(rotmat=R)"
   ]
  },
  {
   "cell_type": "markdown",
   "id": "8fda65e4",
   "metadata": {},
   "source": [
    "The human center of mass position with respect to the bicycle seat is expressed in the bicycle reference frame is:"
   ]
  },
  {
   "cell_type": "code",
   "execution_count": null,
   "id": "44963522",
   "metadata": {
    "collapsed": false,
    "jupyter": {
     "outputs_hidden": false
    }
   },
   "outputs": [],
   "source": [
    "R.dot(human.center_of_mass)"
   ]
  },
  {
   "cell_type": "markdown",
   "id": "b0832a3e",
   "metadata": {},
   "source": [
    "# Combine inertia with bicycle frame"
   ]
  },
  {
   "cell_type": "markdown",
   "id": "93d1fdd6",
   "metadata": {},
   "source": [
    "Now if we assume the human is rigidly affixed to the rear bicycle frame we can combine the inertia of the two rigid bodies into a single rigid body by using the parallel axis thereom."
   ]
  },
  {
   "cell_type": "markdown",
   "id": "aa8f1860",
   "metadata": {},
   "source": [
    "First we form the vector from the bicycle origin (rear wheel contact point) to the Yeadon origin:"
   ]
  },
  {
   "cell_type": "code",
   "execution_count": null,
   "id": "fea0d6cc",
   "metadata": {
    "collapsed": false,
    "jupyter": {
     "outputs_hidden": false
    }
   },
   "outputs": [],
   "source": [
    "bicycle_origin_to_yeadon_origin = origin.pos_from(rear_wheel_center) + rear_wheel_radius * yeadon_rf.z"
   ]
  },
  {
   "cell_type": "markdown",
   "id": "dc82306d",
   "metadata": {},
   "source": [
    "We can express this vector in the bicycle reference frame:"
   ]
  },
  {
   "cell_type": "code",
   "execution_count": null,
   "id": "e65479b4",
   "metadata": {
    "collapsed": false,
    "jupyter": {
     "outputs_hidden": false
    }
   },
   "outputs": [],
   "source": [
    "bicycle_origin_to_yeadon_origin.express(bicycle_rf)"
   ]
  },
  {
   "cell_type": "markdown",
   "id": "96300b56",
   "metadata": {},
   "source": [
    "And use this expression to compute the location given our bicycle measurements:"
   ]
  },
  {
   "cell_type": "code",
   "execution_count": null,
   "id": "40292879",
   "metadata": {
    "collapsed": false,
    "jupyter": {
     "outputs_hidden": false
    }
   },
   "outputs": [],
   "source": [
    "compute_yeadon_origin = sym.lambdify(bicycle_measurement_symbols[:7],\n",
    "                                     bicycle_origin_to_yeadon_origin.to_matrix(bicycle_rf), modules='numpy')"
   ]
  },
  {
   "cell_type": "code",
   "execution_count": null,
   "id": "f319fd8d",
   "metadata": {
    "collapsed": false,
    "jupyter": {
     "outputs_hidden": false
    }
   },
   "outputs": [],
   "source": [
    "yeadon_origin = np.array(compute_yeadon_origin(*args[:7])).reshape(3, 1)\n",
    "yeadon_origin"
   ]
  },
  {
   "cell_type": "markdown",
   "id": "1d5b9900",
   "metadata": {},
   "source": [
    "The mass center of the human can then be computed with respect to the bicycle origin and in the bicycle reference frame:"
   ]
  },
  {
   "cell_type": "code",
   "execution_count": null,
   "id": "2c7ebf2d",
   "metadata": {
    "collapsed": false,
    "jupyter": {
     "outputs_hidden": false
    }
   },
   "outputs": [],
   "source": [
    "human_mass_center_in_bicycle_rf = yeadon_origin + R.dot(human.center_of_mass)"
   ]
  },
  {
   "cell_type": "code",
   "execution_count": null,
   "id": "c2a1886d",
   "metadata": {
    "collapsed": false,
    "jupyter": {
     "outputs_hidden": false
    }
   },
   "outputs": [],
   "source": [
    "human_mass_center_in_bicycle_rf"
   ]
  },
  {
   "cell_type": "markdown",
   "id": "16d86c63",
   "metadata": {},
   "source": [
    "Now we need some parameters for a the rear frame of the bicycle, inertia, center of mass, and mass. These are taken from the Browser bicycle, see http://moorepants.github.io/dissertation/physicalparameters.html."
   ]
  },
  {
   "cell_type": "code",
   "execution_count": null,
   "id": "e5159ff3",
   "metadata": {
    "collapsed": false,
    "jupyter": {
     "outputs_hidden": false
    }
   },
   "outputs": [],
   "source": [
    "n_IBxx = 0.52962890621\n",
    "n_IBxz = -0.116285607878\n",
    "n_IByy = 1.3163960125\n",
    "n_IBzz = 0.756786895402\n",
    "n_xB = 0.275951285677\n",
    "n_zB = -0.537842424305\n",
    "n_mB = 9.86"
   ]
  },
  {
   "cell_type": "code",
   "execution_count": null,
   "id": "7dee224d",
   "metadata": {
    "collapsed": false,
    "jupyter": {
     "outputs_hidden": false
    }
   },
   "outputs": [],
   "source": [
    "rear_frame_mass_center = np.array([[n_xB],\n",
    "                                   [0.0],\n",
    "                                   [n_zB]])\n",
    "rear_frame_mass_center"
   ]
  },
  {
   "cell_type": "code",
   "execution_count": null,
   "id": "541f6528",
   "metadata": {
    "collapsed": false,
    "jupyter": {
     "outputs_hidden": false
    }
   },
   "outputs": [],
   "source": [
    "rear_frame_inertia_tensor = np.array([[n_IBxx, 0.0, n_IBxz],\n",
    "                                      [0.0, n_IByy, 0.0],\n",
    "                                      [n_IBxz, 0.0, n_IBzz]])\n",
    "rear_frame_inertia_tensor"
   ]
  },
  {
   "cell_type": "markdown",
   "id": "db8a7d48",
   "metadata": {},
   "source": [
    "Total mass:"
   ]
  },
  {
   "cell_type": "code",
   "execution_count": null,
   "id": "1152c19a",
   "metadata": {
    "collapsed": false,
    "jupyter": {
     "outputs_hidden": false
    }
   },
   "outputs": [],
   "source": [
    "total_mass = n_mB + human.mass\n",
    "total_mass"
   ]
  },
  {
   "cell_type": "markdown",
   "id": "dcd4b02b",
   "metadata": {},
   "source": [
    "The total center of mass of the bicycle rear frame and the rider is:"
   ]
  },
  {
   "cell_type": "code",
   "execution_count": null,
   "id": "e53cf19e",
   "metadata": {
    "collapsed": false,
    "jupyter": {
     "outputs_hidden": false
    }
   },
   "outputs": [],
   "source": [
    "tmp = human.mass * human_mass_center_in_bicycle_rf\n",
    "total_center_of_mass = np.array([[n_mB * n_xB + tmp[0, 0]],\n",
    "                                 [n_mB * 0.0 + tmp[1, 0]],\n",
    "                                 [n_mB * n_zB + tmp[2, 0]]]) / total_mass\n",
    "total_center_of_mass"
   ]
  },
  {
   "cell_type": "markdown",
   "id": "b5e0bc8e",
   "metadata": {},
   "source": [
    "Now use the parallel axis thereom to compute the inertias about the new center of mass and sum them."
   ]
  },
  {
   "cell_type": "code",
   "execution_count": null,
   "id": "986d5c4d",
   "metadata": {
    "collapsed": false,
    "jupyter": {
     "outputs_hidden": false
    }
   },
   "outputs": [],
   "source": [
    "tmp = (total_center_of_mass - rear_frame_mass_center)\n",
    "a = tmp[0, 0]\n",
    "b = tmp[1, 0]\n",
    "c = tmp[2, 0]\n",
    "rear_frame_inertia_about_total_CoM = \\\n",
    "    rear_frame_inertia_tensor + n_mB * np.array([[b**2 + c**2, -a * b, -a * c],\n",
    "                                                 [-a * b, c**2 + a**2, -b * c],\n",
    "                                                 [-a * c, -b * c, a**2 + b**2]])\n",
    "rear_frame_inertia_about_total_CoM"
   ]
  },
  {
   "cell_type": "code",
   "execution_count": null,
   "id": "02a53389",
   "metadata": {
    "collapsed": false,
    "jupyter": {
     "outputs_hidden": false
    }
   },
   "outputs": [],
   "source": [
    "tmp = (total_center_of_mass - human_mass_center_in_bicycle_rf)\n",
    "a = tmp[0, 0]\n",
    "b = tmp[1, 0]\n",
    "c = tmp[2, 0]\n",
    "human_inertia_about_total_CoM = \\\n",
    "    human.inertia_transformed(rotmat=R) + human.mass * np.array([[b**2 + c**2, -a * b, -a * c],\n",
    "                                                                 [-a * b, c**2 + a**2, -b * c],\n",
    "                                                                 [-a * c, -b * c, a**2 + b**2]])\n",
    "human_inertia_about_total_CoM"
   ]
  },
  {
   "cell_type": "markdown",
   "id": "2c9ddf94",
   "metadata": {},
   "source": [
    "Finally, we have the combined inertia of the rider and the bicycle rear frame expressed in the bicycle frame about the combined center of mass."
   ]
  },
  {
   "cell_type": "code",
   "execution_count": null,
   "id": "d2ea6236",
   "metadata": {
    "collapsed": false,
    "jupyter": {
     "outputs_hidden": false
    }
   },
   "outputs": [],
   "source": [
    "total_inertia = rear_frame_inertia_about_total_CoM + human_inertia_about_total_CoM\n",
    "total_inertia                                                            "
   ]
  }
 ],
 "metadata": {
  "kernelspec": {
   "display_name": "Python 3 (ipykernel)",
   "language": "python",
   "name": "python3"
  },
  "language_info": {
   "codemirror_mode": {
    "name": "ipython",
    "version": 3
   },
   "file_extension": ".py",
   "mimetype": "text/x-python",
   "name": "python",
   "nbconvert_exporter": "python",
   "pygments_lexer": "ipython3",
   "version": "3.12.2"
  }
 },
 "nbformat": 4,
 "nbformat_minor": 5
}
